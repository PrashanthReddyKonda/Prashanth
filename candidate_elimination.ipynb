{
  "nbformat": 4,
  "nbformat_minor": 0,
  "metadata": {
    "colab": {
      "name": "candidate elimination",
      "provenance": [],
      "collapsed_sections": [],
      "authorship_tag": "ABX9TyMTiBgDFgua2RZYsmRDW8jF",
      "include_colab_link": true
    },
    "kernelspec": {
      "name": "python3",
      "display_name": "Python 3"
    },
    "language_info": {
      "name": "python"
    }
  },
  "cells": [
    {
      "cell_type": "markdown",
      "metadata": {
        "id": "view-in-github",
        "colab_type": "text"
      },
      "source": [
        "<a href=\"https://colab.research.google.com/github/PrashanthReddyKonda/Prashanth/blob/main/candidate_elimination.ipynb\" target=\"_parent\"><img src=\"https://colab.research.google.com/assets/colab-badge.svg\" alt=\"Open In Colab\"/></a>"
      ]
    },
    {
      "cell_type": "code",
      "metadata": {
        "id": "W3BeaKEWQw1i"
      },
      "source": [
        "import random\n",
        "import csv"
      ],
      "execution_count": null,
      "outputs": []
    },
    {
      "cell_type": "code",
      "metadata": {
        "id": "vz_MFUcOQ2pt"
      },
      "source": [
        "\n",
        "def g_0(n):\n",
        "    return (\"?\",)*n\n",
        "\n",
        "def s_0(n):\n",
        "    return ('0',)*n"
      ],
      "execution_count": null,
      "outputs": []
    },
    {
      "cell_type": "code",
      "metadata": {
        "colab": {
          "base_uri": "https://localhost:8080/"
        },
        "id": "_Nz0ng7MQ46s",
        "outputId": "172f1d0f-5d98-4ca7-e696-5d56953b314c"
      },
      "source": [
        "def more_general(h1, h2):\n",
        "    more_general_parts = []\n",
        "    for x, y in zip(h1, h2):\n",
        "        mg = x == \"?\" or (x != \"0\" and (x == y or y == \"0\"))\n",
        "        more_general_parts.append(mg)\n",
        "    return all(more_general_parts)\n",
        "\n",
        "l1 = [1, 2, 3]\n",
        "l2 = [3, 4, 5]\n",
        "\n",
        "list(zip(l1, l2))"
      ],
      "execution_count": null,
      "outputs": [
        {
          "output_type": "execute_result",
          "data": {
            "text/plain": [
              "[(1, 3), (2, 4), (3, 5)]"
            ]
          },
          "metadata": {},
          "execution_count": 5
        }
      ]
    },
    {
      "cell_type": "code",
      "metadata": {
        "id": "EP2rOV8SQ6jl"
      },
      "source": [
        "\n",
        "# min_generalizations\n",
        "def fulfills(example, hypothesis):\n",
        "    ### the implementation is the same as for hypotheses:\n",
        "    return more_general(hypothesis, example)\n",
        "\n",
        "def min_generalizations(h, x):\n",
        "    h_new = list(h)\n",
        "    for i in range(len(h)):\n",
        "        if not fulfills(x[i:i+1], h[i:i+1]):\n",
        "            h_new[i] = '?' if h[i] != '0' else x[i]\n",
        "    return [tuple(h_new)]"
      ],
      "execution_count": null,
      "outputs": []
    },
    {
      "cell_type": "code",
      "metadata": {
        "colab": {
          "base_uri": "https://localhost:8080/"
        },
        "id": "pIk4LS5UQ8-N",
        "outputId": "83a146e9-60da-481a-9e3e-534af0aa105a"
      },
      "source": [
        "min_generalizations(h=('0', '0'  , 'sunny'), \n",
        "                    x=('rainy', 'windy', 'cloudy'))\n"
      ],
      "execution_count": null,
      "outputs": [
        {
          "output_type": "execute_result",
          "data": {
            "text/plain": [
              "[('rainy', 'windy', '?')]"
            ]
          },
          "metadata": {},
          "execution_count": 7
        }
      ]
    },
    {
      "cell_type": "code",
      "metadata": {
        "id": "nUqyk6S3Q-Tk"
      },
      "source": [
        "def min_specializations(h, domains, x):\n",
        "    results = []\n",
        "    for i in range(len(h)):\n",
        "        if h[i] == \"?\":\n",
        "            for val in domains[i]:\n",
        "                if x[i] != val:\n",
        "                    h_new = h[:i] + (val,) + h[i+1:]\n",
        "                    results.append(h_new)\n",
        "        elif h[i] != \"0\":\n",
        "            h_new = h[:i] + ('0',) + h[i+1:]\n",
        "            results.append(h_new)\n",
        "    return results"
      ],
      "execution_count": null,
      "outputs": []
    },
    {
      "cell_type": "code",
      "metadata": {
        "colab": {
          "base_uri": "https://localhost:8080/"
        },
        "id": "xopHsVE1RAiV",
        "outputId": "98f0cb62-694a-4540-ec34-2ce9f80ba876"
      },
      "source": [
        "min_specializations(h=('?', 'x',), \n",
        "                    domains=[['a', 'b', 'c'], ['x', 'y']], \n",
        "                    x=('b', 'x'))"
      ],
      "execution_count": null,
      "outputs": [
        {
          "output_type": "execute_result",
          "data": {
            "text/plain": [
              "[('a', 'x'), ('c', 'x'), ('?', '0')]"
            ]
          },
          "metadata": {},
          "execution_count": 9
        }
      ]
    },
    {
      "cell_type": "code",
      "metadata": {
        "colab": {
          "base_uri": "https://localhost:8080/"
        },
        "id": "iqmwYRMmRDNF",
        "outputId": "f63ebf68-fba5-4b50-ebaa-daa652f5edc0"
      },
      "source": [
        "\n",
        "with open('/bin/enjoysport.csv')  as csvFile:\n",
        "        examples = [tuple(line) for line in csv.reader(csvFile)]\n",
        "\n",
        "#examples = [('sunny', 'warm', 'normal', 'strong', 'warm', 'same',True),\n",
        "# ('sunny', 'warm', 'high', 'strong', 'warm', 'same',True),\n",
        "# ('rainy', 'cold', 'high', 'strong', 'warm', 'change',False),\n",
        "# ('sunny', 'warm', 'high', 'strong', 'cool', 'change',True)]\n",
        "\n",
        "examples"
      ],
      "execution_count": null,
      "outputs": [
        {
          "output_type": "execute_result",
          "data": {
            "text/plain": [
              "[('Sunny', 'Warm', 'Normal', 'Strong', 'Warm', 'Same', 'Yes'),\n",
              " ('Sunny', 'Warm', 'High', 'Strong', 'Warm', 'Same', 'Yes'),\n",
              " ('Rainy', 'Cold', 'High', 'Strong', 'Warm', 'Change', 'No'),\n",
              " ('Sunny', 'Warm', 'High', 'Strong', 'Cool', 'Change', 'Yes')]"
            ]
          },
          "metadata": {},
          "execution_count": 11
        }
      ]
    },
    {
      "cell_type": "code",
      "metadata": {
        "colab": {
          "base_uri": "https://localhost:8080/"
        },
        "id": "j1GlzkLsRE5d",
        "outputId": "53eb9375-610f-4700-dc8a-bdc80407e229"
      },
      "source": [
        "\n",
        "def get_domains(examples):\n",
        "    d = [set() for i in examples[0]]\n",
        "    for x in examples:\n",
        "        for i, xi in enumerate(x):\n",
        "            d[i].add(xi)\n",
        "    return [list(sorted(x)) for x in d]\n",
        "\n",
        "get_domains(examples)"
      ],
      "execution_count": null,
      "outputs": [
        {
          "output_type": "execute_result",
          "data": {
            "text/plain": [
              "[['Rainy', 'Sunny'],\n",
              " ['Cold', 'Warm'],\n",
              " ['High', 'Normal'],\n",
              " ['Strong'],\n",
              " ['Cool', 'Warm'],\n",
              " ['Change', 'Same'],\n",
              " ['No', 'Yes']]"
            ]
          },
          "metadata": {},
          "execution_count": 12
        }
      ]
    },
    {
      "cell_type": "code",
      "metadata": {
        "id": "j266uDfFRIYl"
      },
      "source": [
        "def candidate_elimination(examples):\n",
        "    domains = get_domains(examples)[:-1]\n",
        "    \n",
        "    G = set([g_0(len(domains))])\n",
        "    S = set([s_0(len(domains))])\n",
        "    i=0\n",
        "    print(\"\\n G[{0}]:\".format(i),G)\n",
        "    print(\"\\n S[{0}]:\".format(i),S)\n",
        "    for xcx in examples:\n",
        "        i=i+1\n",
        "        x, cx = xcx[:-1], xcx[-1]  # Splitting data into attributes and decisions\n",
        "        if cx=='Y': # x is positive example\n",
        "            G = {g for g in G if fulfills(x, g)}\n",
        "            S = generalize_S(x, G, S)\n",
        "        else: # x is negative example\n",
        "            S = {s for s in S if not fulfills(x, s)}\n",
        "            G = specialize_G(x, domains, G, S)\n",
        "        print(\"\\n G[{0}]:\".format(i),G)\n",
        "        print(\"\\n S[{0}]:\".format(i),S)\n",
        "    return"
      ],
      "execution_count": null,
      "outputs": []
    },
    {
      "cell_type": "code",
      "metadata": {
        "id": "EFFPdDY2RMM8"
      },
      "source": [
        "def generalize_S(x, G, S):\n",
        "    S_prev = list(S)\n",
        "    for s in S_prev:\n",
        "        if s not in S:\n",
        "            continue\n",
        "        if not fulfills(x, s):\n",
        "            S.remove(s)\n",
        "            Splus = min_generalizations(s, x)\n",
        "            ## keep only generalizations that have a counterpart in G\n",
        "            S.update([h for h in Splus if any([more_general(g,h) \n",
        "                                               for g in G])])\n",
        "            ## remove hypotheses less specific than any other in S\n",
        "            S.difference_update([h for h in S if \n",
        "                                 any([more_general(h, h1) \n",
        "                                      for h1 in S if h != h1])])\n",
        "    return S"
      ],
      "execution_count": null,
      "outputs": []
    },
    {
      "cell_type": "code",
      "metadata": {
        "id": "Hsg1NbneROMV"
      },
      "source": [
        "def specialize_G(x, domains, G, S):\n",
        "    G_prev = list(G)\n",
        "    for g in G_prev:\n",
        "        if g not in G:\n",
        "            continue\n",
        "        if fulfills(x, g):\n",
        "            G.remove(g)\n",
        "            Gminus = min_specializations(g, domains, x)\n",
        "            ## keep only specializations that have a conuterpart in S\n",
        "            G.update([h for h in Gminus if any([more_general(h, s)\n",
        "                                                for s in S])])\n",
        "            ## remove hypotheses less general than any other in G\n",
        "            G.difference_update([h for h in G if \n",
        "                                 any([more_general(g1, h) \n",
        "                                      for g1 in G if h != g1])])\n",
        "    return G"
      ],
      "execution_count": null,
      "outputs": []
    },
    {
      "cell_type": "code",
      "metadata": {
        "colab": {
          "base_uri": "https://localhost:8080/"
        },
        "id": "F0v-pBuQRQe1",
        "outputId": "53ee6475-773e-473e-b2d5-500d6de53988"
      },
      "source": [
        "candidate_elimination(examples)"
      ],
      "execution_count": null,
      "outputs": [
        {
          "output_type": "stream",
          "name": "stdout",
          "text": [
            "\n",
            " G[0]: {('?', '?', '?', '?', '?', '?')}\n",
            "\n",
            " S[0]: {('0', '0', '0', '0', '0', '0')}\n",
            "\n",
            " G[1]: {('?', '?', '?', '?', 'Cool', '?'), ('?', 'Cold', '?', '?', '?', '?'), ('Rainy', '?', '?', '?', '?', '?'), ('?', '?', 'High', '?', '?', '?'), ('?', '?', '?', '?', '?', 'Change')}\n",
            "\n",
            " S[1]: {('0', '0', '0', '0', '0', '0')}\n",
            "\n",
            " G[2]: {('?', '?', '?', '?', 'Cool', '?'), ('?', 'Cold', '?', '?', '?', '?'), ('Rainy', '?', '?', '?', '?', '?'), ('?', '?', '?', '?', '?', 'Change')}\n",
            "\n",
            " S[2]: {('0', '0', '0', '0', '0', '0')}\n",
            "\n",
            " G[3]: {('Rainy', 'Warm', '?', '?', '?', '?'), ('?', 'Cold', '?', '?', '?', 'Same'), ('Rainy', '?', '?', '?', '?', 'Same'), ('Sunny', 'Cold', '?', '?', '?', '?'), ('Rainy', '?', 'Normal', '?', '?', '?'), ('Sunny', '?', '?', '?', '?', 'Change'), ('?', 'Cold', 'Normal', '?', '?', '?'), ('?', 'Warm', '?', '?', '?', 'Change'), ('?', '?', '?', '?', 'Cool', '?'), ('?', '?', 'Normal', '?', '?', 'Change')}\n",
            "\n",
            " S[3]: {('0', '0', '0', '0', '0', '0')}\n",
            "\n",
            " G[4]: {('Rainy', 'Warm', '?', '?', '?', '?'), ('?', 'Cold', '?', '?', '?', 'Same'), ('Rainy', '?', '?', '?', '?', 'Same'), ('Sunny', 'Cold', '?', '?', '?', '?'), ('Rainy', '?', 'Normal', '?', '?', '?'), ('?', 'Cold', 'Normal', '?', '?', '?'), ('?', '?', '?', '?', 'Cool', 'Same'), ('Rainy', '?', '?', '?', 'Cool', '?'), ('?', 'Cold', '?', '?', 'Cool', '?'), ('?', '?', 'Normal', '?', '?', 'Change'), ('Sunny', '?', '?', '?', 'Warm', 'Change'), ('?', '?', 'Normal', '?', 'Cool', '?'), ('?', 'Warm', '?', '?', 'Warm', 'Change')}\n",
            "\n",
            " S[4]: {('0', '0', '0', '0', '0', '0')}\n"
          ]
        }
      ]
    },
    {
      "cell_type": "code",
      "metadata": {
        "colab": {
          "base_uri": "https://localhost:8080/"
        },
        "id": "f-_LjAuhU5g6",
        "outputId": "eb2c0272-fd1b-45ef-ce8f-bf9e360ad5a7"
      },
      "source": [
        "min_generalizations(h=('0', '0'  , 'big'), \n",
        "                    x=('big', 'red', 'circle'))"
      ],
      "execution_count": null,
      "outputs": [
        {
          "output_type": "execute_result",
          "data": {
            "text/plain": [
              "[('big', 'red', '?')]"
            ]
          },
          "metadata": {},
          "execution_count": 17
        }
      ]
    },
    {
      "cell_type": "code",
      "metadata": {
        "id": "-7MfwHk4Sdq-"
      },
      "source": [
        "with open('/bin/GEOMETRY.csv')  as csvFile:\n",
        "        examples = [tuple(line) for line in csv.reader(csvFile)]\n",
        "#examples = [('Big', 'Red', 'Circle', No),\n",
        "# ('Small', 'Red', 'Triangle',No),\n",
        "# ('Small', 'Red', 'Circle',No),\n",
        "# ('Small', 'Blue', 'Circle', Yes)]"
      ],
      "execution_count": null,
      "outputs": []
    },
    {
      "cell_type": "code",
      "metadata": {
        "colab": {
          "base_uri": "https://localhost:8080/"
        },
        "id": "L3i2ugTwTT_l",
        "outputId": "7e380e07-b543-4aee-d51b-fe10ee02f29e"
      },
      "source": [
        "def get_domains(examples):\n",
        "    d = [set() for i in examples[0]]\n",
        "    for x in examples:\n",
        "        for i, xi in enumerate(x):\n",
        "            d[i].add(xi)\n",
        "    return [list(sorted(x)) for x in d]\n",
        "\n",
        "get_domains(examples)"
      ],
      "execution_count": null,
      "outputs": [
        {
          "output_type": "execute_result",
          "data": {
            "text/plain": [
              "[['Big', 'Small'], ['Blue', 'Red'], ['Circle', 'Triangle'], ['No', 'Yes']]"
            ]
          },
          "metadata": {},
          "execution_count": 19
        }
      ]
    },
    {
      "cell_type": "code",
      "metadata": {
        "id": "em_wAHKETWMN"
      },
      "source": [
        "def candidate_elimination(examples):\n",
        "    domains = get_domains(examples)[:-1]\n",
        "    \n",
        "    G = set([g_0(len(domains))])\n",
        "    S = set([s_0(len(domains))])\n",
        "    i=0\n",
        "    print(\"\\n G[{0}]:\".format(i),G)\n",
        "    print(\"\\n S[{0}]:\".format(i),S)\n",
        "    for xcx in examples1:\n",
        "        i=i+1\n",
        "        x, cx = xcx[:-1], xcx[-1]\n",
        "        if cx=='Y':\n",
        "            G = {g for g in G if fulfills(x, g)}\n",
        "            S = generalize_S(x, G, S)\n",
        "        else: # x is negative example\n",
        "            S = {s for s in S if not fulfills(x, s)}\n",
        "            G = specialize_G(x, domains, G, S)\n",
        "        print(\"\\n G[{0}]:\".format(i),G)\n",
        "        print(\"\\n S[{0}]:\".format(i),S)\n",
        "    return"
      ],
      "execution_count": null,
      "outputs": []
    },
    {
      "cell_type": "code",
      "metadata": {
        "id": "4koc1OQSK_SK"
      },
      "source": [
        "def generalize_S(x, G, S):\n",
        "    S_prev = list(S)\n",
        "    for s in S_prev:\n",
        "        if s not in S:\n",
        "            continue\n",
        "        if not fulfills(x, s):\n",
        "            S.remove(s)\n",
        "            Splus = min_generalizations(s, x)\n",
        "            ## keep only generalizations that have a counterpart in G\n",
        "            S.update([h for h in Splus if any([more_general(g,h) \n",
        "                                               for g in G])])\n",
        "            ## remove hypotheses less specific than any other in S\n",
        "            S.difference_update([h for h in S if \n",
        "                                 any([more_general(h, h1) \n",
        "                                      for h1 in S if h != h1])])\n",
        "    return S"
      ],
      "execution_count": null,
      "outputs": []
    },
    {
      "cell_type": "code",
      "metadata": {
        "id": "oBznFWabTW_k"
      },
      "source": [
        "def specialize_G(x, domains, G, S):\n",
        "    G_prev = list(G)\n",
        "    for g in G_prev:\n",
        "        if g not in G:\n",
        "            continue\n",
        "        if fulfills(x, g):\n",
        "            G.remove(g)\n",
        "            Gminus = min_specializations(g, domains, x)\n",
        "            ## keep only specializations that have a conuterpart in S\n",
        "            G.update([h for h in Gminus if any([more_general(h, s)\n",
        "                                                for s in S])])\n",
        "            ## remove hypotheses less general than any other in G\n",
        "            G.difference_update([h for h in G if \n",
        "                                 any([more_general(g1, h) \n",
        "                                      for g1 in G if h != g1])])\n",
        "    return G"
      ],
      "execution_count": null,
      "outputs": []
    },
    {
      "cell_type": "code",
      "metadata": {
        "colab": {
          "base_uri": "https://localhost:8080/"
        },
        "id": "RjTe_Fw0LbwO",
        "outputId": "147741b5-0c7a-425c-d80d-21ee7cb39242"
      },
      "source": [
        "candidate_elimination(examples)"
      ],
      "execution_count": null,
      "outputs": [
        {
          "output_type": "stream",
          "name": "stdout",
          "text": [
            "G[0]: {('?', '?', '?')}\n",
            "\n",
            "S[0]: {('0', '0', '0')}\n",
            "\n",
            "G[1]: {('?', 'Blue', '?'), ('Small', '?', '?'), ('?', '?', 'Triangle')}\n",
            "\n",
            "S[1]: {('0', '0', '0')}\n",
            "\n",
            "G[2]: {('Big', '?', 'Triangle'), ('Small', '?', 'Circle'), ('?', 'Blue', '?')}\n",
            "\n",
            "S[2]: {('0', '0', '0')}\n",
            "\n",
            "G[3]: {('Big', '?', 'Triangle'), ('?', 'Blue', '?')}\n",
            "\n",
            "S[3]: {('0', '0', '0')}\n",
            "\n",
            "G[4]: {('Big', '?', 'Triangle'), ('Big', 'Blue', '?'), ('?', 'Blue', 'Triangle')}\n",
            "\n",
            "S[4]: {('0', '0', '0')}\n"
          ]
        }
      ]
    }
  ]
}