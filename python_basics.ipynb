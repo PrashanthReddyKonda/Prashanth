{
  "nbformat": 4,
  "nbformat_minor": 0,
  "metadata": {
    "colab": {
      "name": "python basics",
      "provenance": [],
      "collapsed_sections": [],
      "authorship_tag": "ABX9TyNo5cnx3zlNaSHltrYzlGiJ",
      "include_colab_link": true
    },
    "kernelspec": {
      "name": "python3",
      "display_name": "Python 3"
    },
    "language_info": {
      "name": "python"
    }
  },
  "cells": [
    {
      "cell_type": "markdown",
      "metadata": {
        "id": "view-in-github",
        "colab_type": "text"
      },
      "source": [
        "<a href=\"https://colab.research.google.com/github/PrashanthReddyKonda/Prashanth/blob/main/python_basics.ipynb\" target=\"_parent\"><img src=\"https://colab.research.google.com/assets/colab-badge.svg\" alt=\"Open In Colab\"/></a>"
      ]
    },
    {
      "cell_type": "code",
      "metadata": {
        "id": "JN_e1ssoQTQ-"
      },
      "source": [
        ""
      ],
      "execution_count": null,
      "outputs": []
    },
    {
      "cell_type": "code",
      "metadata": {
        "colab": {
          "base_uri": "https://localhost:8080/"
        },
        "id": "qV1E6E4lQTTH",
        "outputId": "749ca7c8-bcb8-47c5-c514-a7588930611c"
      },
      "source": [
        "a=3\n",
        "a"
      ],
      "execution_count": null,
      "outputs": [
        {
          "output_type": "execute_result",
          "data": {
            "text/plain": [
              "3"
            ]
          },
          "metadata": {},
          "execution_count": 5
        }
      ]
    },
    {
      "cell_type": "code",
      "metadata": {
        "colab": {
          "base_uri": "https://localhost:8080/"
        },
        "id": "6_aIc80YQVAT",
        "outputId": "3a070fcb-2e06-4d3f-82e9-75b0e8e2e021"
      },
      "source": [
        "a+3"
      ],
      "execution_count": null,
      "outputs": [
        {
          "output_type": "execute_result",
          "data": {
            "text/plain": [
              "6"
            ]
          },
          "metadata": {},
          "execution_count": 6
        }
      ]
    },
    {
      "cell_type": "code",
      "metadata": {
        "colab": {
          "base_uri": "https://localhost:8080/"
        },
        "id": "G6FdQYPaQYCo",
        "outputId": "5fb8e9d5-a836-49fb-c2dd-2cb54fd3e92d"
      },
      "source": [
        "b=10\n",
        "a+b*2\n"
      ],
      "execution_count": null,
      "outputs": [
        {
          "output_type": "execute_result",
          "data": {
            "text/plain": [
              "23"
            ]
          },
          "metadata": {},
          "execution_count": 7
        }
      ]
    },
    {
      "cell_type": "code",
      "metadata": {
        "colab": {
          "base_uri": "https://localhost:8080/"
        },
        "id": "EaOZFhh1Qg_L",
        "outputId": "04a92f4d-8790-4b94-ab88-66631c1e46a1"
      },
      "source": [
        "pr=20\n",
        "pr*4+2"
      ],
      "execution_count": null,
      "outputs": [
        {
          "output_type": "execute_result",
          "data": {
            "text/plain": [
              "82"
            ]
          },
          "metadata": {},
          "execution_count": 8
        }
      ]
    },
    {
      "cell_type": "code",
      "metadata": {
        "colab": {
          "base_uri": "https://localhost:8080/"
        },
        "id": "GtJbaLPDQo-F",
        "outputId": "2d1590d4-b134-4eee-f73e-f7e4ef205162"
      },
      "source": [
        "pr**3"
      ],
      "execution_count": null,
      "outputs": [
        {
          "output_type": "execute_result",
          "data": {
            "text/plain": [
              "8000"
            ]
          },
          "metadata": {},
          "execution_count": 9
        }
      ]
    },
    {
      "cell_type": "code",
      "metadata": {
        "colab": {
          "base_uri": "https://localhost:8080/"
        },
        "id": "h36dYjXfQvjJ",
        "outputId": "746721c3-30db-496b-ce3f-6b6ac3cb712b"
      },
      "source": [
        "pr\n",
        "pr**4\n"
      ],
      "execution_count": null,
      "outputs": [
        {
          "output_type": "execute_result",
          "data": {
            "text/plain": [
              "160000"
            ]
          },
          "metadata": {},
          "execution_count": 11
        }
      ]
    },
    {
      "cell_type": "code",
      "metadata": {
        "colab": {
          "base_uri": "https://localhost:8080/"
        },
        "id": "rNRq5fPbQ7FO",
        "outputId": "d5e06106-e8a7-424a-c36c-7dcd9ecd241d"
      },
      "source": [
        "print(pr)\n",
        "print(pr**4)"
      ],
      "execution_count": null,
      "outputs": [
        {
          "output_type": "stream",
          "text": [
            "20\n",
            "160000\n"
          ],
          "name": "stdout"
        }
      ]
    },
    {
      "cell_type": "code",
      "metadata": {
        "colab": {
          "base_uri": "https://localhost:8080/"
        },
        "id": "YmOZQkq-RD-A",
        "outputId": "9c9927fa-4300-4ac9-b5ff-14eb9667c011"
      },
      "source": [
        "greeting='hello my name is'\n",
        "print(greeting)"
      ],
      "execution_count": null,
      "outputs": [
        {
          "output_type": "stream",
          "text": [
            "hell my name is\n"
          ],
          "name": "stdout"
        }
      ]
    },
    {
      "cell_type": "code",
      "metadata": {
        "colab": {
          "base_uri": "https://localhost:8080/"
        },
        "id": "a_VhrrnWRSW9",
        "outputId": "f9d5a70c-0400-482e-add3-013244f751cd"
      },
      "source": [
        "greeting='hello my name is'\n",
        "name='pr'\n",
        "print(greeting,name)"
      ],
      "execution_count": null,
      "outputs": [
        {
          "output_type": "stream",
          "text": [
            "hell my name is pr\n"
          ],
          "name": "stdout"
        }
      ]
    },
    {
      "cell_type": "code",
      "metadata": {
        "colab": {
          "base_uri": "https://localhost:8080/"
        },
        "id": "4ByVG5pgRYsY",
        "outputId": "646d978e-daa8-4e62-e2d0-216fce3f8820"
      },
      "source": [
        "greeting='hello my name is'\n",
        "name='pr'\n",
        "print(greeting+name)"
      ],
      "execution_count": null,
      "outputs": [
        {
          "output_type": "stream",
          "text": [
            "hell my name ispr\n"
          ],
          "name": "stdout"
        }
      ]
    },
    {
      "cell_type": "code",
      "metadata": {
        "colab": {
          "base_uri": "https://localhost:8080/"
        },
        "id": "39lMn8xXReb-",
        "outputId": "33a2a50f-1497-4486-99f4-1d6af10223f2"
      },
      "source": [
        "greeting='hello my name is'\n",
        "name='pr'\n",
        "age='10'\n",
        "print(greeting,name,'i am ',age,'years old')"
      ],
      "execution_count": null,
      "outputs": [
        {
          "output_type": "stream",
          "text": [
            "hello my name is pr i am  10 years old\n"
          ],
          "name": "stdout"
        }
      ]
    },
    {
      "cell_type": "code",
      "metadata": {
        "colab": {
          "base_uri": "https://localhost:8080/"
        },
        "id": "Kd_WzkKjRtpC",
        "outputId": "a9d2c29d-b69d-4c7e-8f46-c2e052a6c8f9"
      },
      "source": [
        "greeting='hello my name is'\n",
        "name='pr'\n",
        "age='10'\n",
        "print(greeting,name,'i am ',age,'years old')"
      ],
      "execution_count": null,
      "outputs": [
        {
          "output_type": "stream",
          "text": [
            "hello my name is pr i am  10 years old\n"
          ],
          "name": "stdout"
        }
      ]
    },
    {
      "cell_type": "code",
      "metadata": {
        "colab": {
          "base_uri": "https://localhost:8080/"
        },
        "id": "qPO0Xq3yR84i",
        "outputId": "9449126b-f508-4c51-d0d7-786a712e4261"
      },
      "source": [
        "list1=[1,2,3,4,5,5,3]\n",
        "print(list1) "
      ],
      "execution_count": null,
      "outputs": [
        {
          "output_type": "stream",
          "text": [
            "[1, 2, 3, 4, 5, 5, 3]\n"
          ],
          "name": "stdout"
        }
      ]
    },
    {
      "cell_type": "code",
      "metadata": {
        "colab": {
          "base_uri": "https://localhost:8080/"
        },
        "id": "MTMDnS3xSVFi",
        "outputId": "0c07d619-ebc2-44ec-d03e-b606ab22bea4"
      },
      "source": [
        "abs(-5)"
      ],
      "execution_count": null,
      "outputs": [
        {
          "output_type": "execute_result",
          "data": {
            "text/plain": [
              "5"
            ]
          },
          "metadata": {},
          "execution_count": 25
        }
      ]
    },
    {
      "cell_type": "markdown",
      "metadata": {
        "id": "mMy6O3GxTwx1"
      },
      "source": [
        "//for getting the average of the numbers as the mean function exists in numpy package we import numpy package"
      ]
    },
    {
      "cell_type": "code",
      "metadata": {
        "colab": {
          "base_uri": "https://localhost:8080/"
        },
        "id": "NABC5M_zS4Q1",
        "outputId": "566c92b8-4a67-4ad0-f974-55477b73423d"
      },
      "source": [
        "import numpy as np\n",
        "\n",
        "print(np.mean(list1))\n",
        "np.sqrt(25)"
      ],
      "execution_count": null,
      "outputs": [
        {
          "output_type": "stream",
          "text": [
            "3.2857142857142856\n"
          ],
          "name": "stdout"
        },
        {
          "output_type": "execute_result",
          "data": {
            "text/plain": [
              "5.0"
            ]
          },
          "metadata": {},
          "execution_count": 32
        }
      ]
    },
    {
      "cell_type": "markdown",
      "metadata": {
        "id": "SadOPDGoUH8j"
      },
      "source": [
        "using the linspace function in numpy is used to give the required number of numbers in a particular range\n"
      ]
    },
    {
      "cell_type": "code",
      "metadata": {
        "colab": {
          "base_uri": "https://localhost:8080/"
        },
        "id": "RRuVXhV0T5X7",
        "outputId": "c7d1295e-22bd-441d-8586-6627b3c2e4eb"
      },
      "source": [
        "np.linspace(1,10,7)\n",
        "edith=np.linspace(1,10,15)\n",
        "edith+2"
      ],
      "execution_count": null,
      "outputs": [
        {
          "output_type": "execute_result",
          "data": {
            "text/plain": [
              "array([ 3.        ,  3.64285714,  4.28571429,  4.92857143,  5.57142857,\n",
              "        6.21428571,  6.85714286,  7.5       ,  8.14285714,  8.78571429,\n",
              "        9.42857143, 10.07142857, 10.71428571, 11.35714286, 12.        ])"
            ]
          },
          "metadata": {},
          "execution_count": 34
        }
      ]
    },
    {
      "cell_type": "code",
      "metadata": {
        "colab": {
          "base_uri": "https://localhost:8080/"
        },
        "id": "pWEUxmDtnNYa",
        "outputId": "8c35eeeb-335a-4630-9b23-d82036c13c7a"
      },
      "source": [
        "np.linspace(4,100,15)"
      ],
      "execution_count": null,
      "outputs": [
        {
          "output_type": "execute_result",
          "data": {
            "text/plain": [
              "array([  4.        ,  10.85714286,  17.71428571,  24.57142857,\n",
              "        31.42857143,  38.28571429,  45.14285714,  52.        ,\n",
              "        58.85714286,  65.71428571,  72.57142857,  79.42857143,\n",
              "        86.28571429,  93.14285714, 100.        ])"
            ]
          },
          "metadata": {},
          "execution_count": 123
        }
      ]
    },
    {
      "cell_type": "code",
      "metadata": {
        "colab": {
          "base_uri": "https://localhost:8080/"
        },
        "id": "neRk4LZqUljm",
        "outputId": "817b3e76-219b-427d-e827-7dadca07d1b8"
      },
      "source": [
        "np.linspace(4,100,15,dtype=int)"
      ],
      "execution_count": null,
      "outputs": [
        {
          "output_type": "execute_result",
          "data": {
            "text/plain": [
              "array([  4,  10,  17,  24,  31,  38,  45,  52,  58,  65,  72,  79,  86,\n",
              "        93, 100])"
            ]
          },
          "metadata": {},
          "execution_count": 125
        }
      ]
    },
    {
      "cell_type": "code",
      "metadata": {
        "colab": {
          "base_uri": "https://localhost:8080/"
        },
        "id": "5lF6VXPZob2x",
        "outputId": "907b95f3-2ba8-448f-858a-6d7c7ff803bc"
      },
      "source": [
        "np.sqrt(np.linspace(4,100,15,dtype=int))"
      ],
      "execution_count": null,
      "outputs": [
        {
          "output_type": "execute_result",
          "data": {
            "text/plain": [
              "array([ 2.        ,  3.16227766,  4.12310563,  4.89897949,  5.56776436,\n",
              "        6.164414  ,  6.70820393,  7.21110255,  7.61577311,  8.06225775,\n",
              "        8.48528137,  8.88819442,  9.2736185 ,  9.64365076, 10.        ])"
            ]
          },
          "metadata": {},
          "execution_count": 126
        }
      ]
    },
    {
      "cell_type": "code",
      "metadata": {
        "colab": {
          "base_uri": "https://localhost:8080/",
          "height": 282
        },
        "id": "UxU-Iy03VmeX",
        "outputId": "94087d23-bca3-4e6e-ab90-7293968a4b7c"
      },
      "source": [
        "import matplotlib.pyplot as plt\n",
        "import numpy as np\n",
        "plt.plot(35,4,'.')"
      ],
      "execution_count": null,
      "outputs": [
        {
          "output_type": "execute_result",
          "data": {
            "text/plain": [
              "[<matplotlib.lines.Line2D at 0x7fba1b0571d0>]"
            ]
          },
          "metadata": {},
          "execution_count": 39
        },
        {
          "output_type": "display_data",
          "data": {
            "image/png": "[encoded data removed]",
            "text/plain": [
              "<Figure size 432x288 with 1 Axes>"
            ]
          },
          "metadata": {
            "needs_background": "light"
          }
        }
      ]
    },
    {
      "cell_type": "code",
      "metadata": {
        "colab": {
          "base_uri": "https://localhost:8080/",
          "height": 265
        },
        "id": "V__42MhgWDWi",
        "outputId": "cffffec2-b53f-4d06-a476-10a4b26fcc89"
      },
      "source": [
        "import matplotlib.pyplot as plt\n",
        "import numpy as np\n",
        "plt.plot(35,4,'r.')\n",
        "plt.show()"
      ],
      "execution_count": null,
      "outputs": [
        {
          "output_type": "display_data",
          "data": {
            "image/png": "[encoded data removed]",
            "text/plain": [
              "<Figure size 432x288 with 1 Axes>"
            ]
          },
          "metadata": {
            "needs_background": "light"
          }
        }
      ]
    },
    {
      "cell_type": "code",
      "metadata": {
        "colab": {
          "base_uri": "https://localhost:8080/",
          "height": 299
        },
        "id": "hW7fheWpWQO_",
        "outputId": "82da06ee-dbd5-45a5-96bc-aa2fd29f4700"
      },
      "source": [
        "x=np.arange(-9,10)#python ignores the second numbers in the range\n",
        "print(x)\n",
        "y=x**2\n",
        "plt.plot(x,y/2,'bs')\n",
        "plt.plot(x,y,'r')"
      ],
      "execution_count": null,
      "outputs": [
        {
          "output_type": "stream",
          "text": [
            "[-9 -8 -7 -6 -5 -4 -3 -2 -1  0  1  2  3  4  5  6  7  8  9]\n"
          ],
          "name": "stdout"
        },
        {
          "output_type": "execute_result",
          "data": {
            "text/plain": [
              "[<matplotlib.lines.Line2D at 0x7fba1ab0a850>]"
            ]
          },
          "metadata": {},
          "execution_count": 47
        },
        {
          "output_type": "display_data",
          "data": {
            "image/png": "[encoded data removed]",
            "text/plain": [
              "<Figure size 432x288 with 1 Axes>"
            ]
          },
          "metadata": {
            "needs_background": "light"
          }
        }
      ]
    },
    {
      "cell_type": "code",
      "metadata": {
        "colab": {
          "base_uri": "https://localhost:8080/",
          "height": 282
        },
        "id": "RZyRqbD0W_lr",
        "outputId": "0614d652-10f5-4362-e299-0d07c18166d4"
      },
      "source": [
        "plt.plot([0,3],[-1,1])#starting and stop points in x and y axes fror a line   "
      ],
      "execution_count": null,
      "outputs": [
        {
          "output_type": "execute_result",
          "data": {
            "text/plain": [
              "[<matplotlib.lines.Line2D at 0x7fba1aa73f90>]"
            ]
          },
          "metadata": {},
          "execution_count": 48
        },
        {
          "output_type": "display_data",
          "data": {
            "image/png": "[encoded data removed]",
            "text/plain": [
              "<Figure size 432x288 with 1 Axes>"
            ]
          },
          "metadata": {
            "needs_background": "light"
          }
        }
      ]
    },
    {
      "cell_type": "code",
      "metadata": {
        "colab": {
          "base_uri": "https://localhost:8080/",
          "height": 265
        },
        "id": "2xP0vjuLXMSR",
        "outputId": "af84138b-6653-4a2b-b053-5b1a64438ae0"
      },
      "source": [
        "plt.plot([0,3],[-1,1],label='1st line')\n",
        "plt.plot([3,7],[4,7],label='2nd line')\n",
        "plt.legend()\n",
        "plt.show()"
      ],
      "execution_count": null,
      "outputs": [
        {
          "output_type": "display_data",
          "data": {
            "image/png": "[encoded data removed]",
            "text/plain": [
              "<Figure size 432x288 with 1 Axes>"
            ]
          },
          "metadata": {
            "needs_background": "light"
          }
        }
      ]
    },
    {
      "cell_type": "code",
      "metadata": {
        "colab": {
          "base_uri": "https://localhost:8080/"
        },
        "id": "kEdCzD6-W_sc",
        "outputId": "c9356b0a-b15c-48ff-c125-fa85109ece2f"
      },
      "source": [
        "m=np.random.randint(0,10,size=(4,5))#creates a 4 by 5 matrix with andom rumbers in the range of 0 to 10\n",
        "m\n"
      ],
      "execution_count": null,
      "outputs": [
        {
          "output_type": "execute_result",
          "data": {
            "text/plain": [
              "array([[6, 8, 1, 7, 0],\n",
              "       [7, 9, 0, 7, 2],\n",
              "       [3, 8, 1, 8, 1],\n",
              "       [4, 1, 5, 6, 4]])"
            ]
          },
          "metadata": {},
          "execution_count": 54
        }
      ]
    },
    {
      "cell_type": "code",
      "metadata": {
        "colab": {
          "base_uri": "https://localhost:8080/",
          "height": 269
        },
        "id": "zf-9LavBZTLc",
        "outputId": "e579f28d-2d2e-4c46-eacd-9499d1ef2202"
      },
      "source": [
        "plt.imshow(m)#show the number with the help of colours\n",
        "plt.show()"
      ],
      "execution_count": null,
      "outputs": [
        {
          "output_type": "display_data",
          "data": {
            "image/png": "[encoded data removed]",
            "text/plain": [
              "<Figure size 432x288 with 1 Axes>"
            ]
          },
          "metadata": {
            "needs_background": "light"
          }
        }
      ]
    },
    {
      "cell_type": "code",
      "metadata": {
        "colab": {
          "base_uri": "https://localhost:8080/",
          "height": 269
        },
        "id": "TnSv0TluYDxz",
        "outputId": "8c8cf775-96be-47dd-aa05-c47fcf559bfd"
      },
      "source": [
        "plt.imshow(m)#drawing the red lines to the opposite corners \n",
        "plt.plot([-0.5,4.5],[-0.5,3.5],'r')\n",
        "plt.plot([3.5,-0.5],[-0.5,3.5],'r')\n",
        "plt.show()"
      ],
      "execution_count": null,
      "outputs": [
        {
          "output_type": "display_data",
          "data": {
            "image/png": "[encoded data removed]",
            "text/plain": [
              "<Figure size 432x288 with 1 Axes>"
            ]
          },
          "metadata": {
            "needs_background": "light"
          }
        }
      ]
    },
    {
      "cell_type": "code",
      "metadata": {
        "colab": {
          "base_uri": "https://localhost:8080/"
        },
        "id": "X6DDBdJeaGFa",
        "outputId": "11f8a0eb-6808-46d9-96dd-f27e208836c9"
      },
      "source": [
        "#appends the vec s times to vec\n",
        "vec=[3,4,5,2]\n",
        "s=2\n",
        "vec*s"
      ],
      "execution_count": null,
      "outputs": [
        {
          "output_type": "execute_result",
          "data": {
            "text/plain": [
              "[3, 4, 5, 2, 3, 4, 5, 2]"
            ]
          },
          "metadata": {},
          "execution_count": 68
        }
      ]
    },
    {
      "cell_type": "code",
      "metadata": {
        "colab": {
          "base_uri": "https://localhost:8080/"
        },
        "id": "QFstu9Nqambj",
        "outputId": "fa7b8d2f-9b90-4690-abaf-0606fcb2d5fb"
      },
      "source": [
        "#gives multiplication of the vector *scalar \n",
        "vec=np.array([3,4,5,2])\n",
        "s=3\n",
        "vec*s"
      ],
      "execution_count": null,
      "outputs": [
        {
          "output_type": "execute_result",
          "data": {
            "text/plain": [
              "array([ 9, 12, 15,  6])"
            ]
          },
          "metadata": {},
          "execution_count": 69
        }
      ]
    },
    {
      "cell_type": "code",
      "metadata": {
        "colab": {
          "base_uri": "https://localhost:8080/"
        },
        "id": "UqUUCEdOa4lx",
        "outputId": "9a902b90-437f-4918-8035-01a02411c7bf"
      },
      "source": [
        "vec2d=np.array([1,2])\n",
        "s1=2\n",
        "s2=.5\n",
        "s3=-1\n",
        "vec2d[1]\n"
      ],
      "execution_count": null,
      "outputs": [
        {
          "output_type": "execute_result",
          "data": {
            "text/plain": [
              "2"
            ]
          },
          "metadata": {},
          "execution_count": 73
        }
      ]
    },
    {
      "cell_type": "code",
      "metadata": {
        "colab": {
          "base_uri": "https://localhost:8080/",
          "height": 163
        },
        "id": "n4mIPSGGbYxO",
        "outputId": "3d0d802c-c96b-48b1-bde1-1941802afc22"
      },
      "source": [
        "#we get index out of bound error\n",
        "vec2d[2]"
      ],
      "execution_count": null,
      "outputs": [
        {
          "output_type": "error",
          "ename": "IndexError",
          "evalue": "ignored",
          "traceback": [
            "\u001b[0;31m---------------------------------------------------------------------------\u001b[0m",
            "\u001b[0;31mIndexError\u001b[0m                                Traceback (most recent call last)",
            "\u001b[0;32m<ipython-input-74-3bcd8913aab6>\u001b[0m in \u001b[0;36m<module>\u001b[0;34m()\u001b[0m\n\u001b[0;32m----> 1\u001b[0;31m \u001b[0mvec2d\u001b[0m\u001b[0;34m[\u001b[0m\u001b[0;36m2\u001b[0m\u001b[0;34m]\u001b[0m\u001b[0;34m\u001b[0m\u001b[0;34m\u001b[0m\u001b[0m\n\u001b[0m",
            "\u001b[0;31mIndexError\u001b[0m: index 2 is out of bounds for axis 0 with size 2"
          ]
        }
      ]
    },
    {
      "cell_type": "code",
      "metadata": {
        "colab": {
          "base_uri": "https://localhost:8080/",
          "height": 286
        },
        "id": "MpbUrrH-bjjJ",
        "outputId": "f9d23ac6-9fa2-4d75-86d2-5f40f8db562e"
      },
      "source": [
        "plt.plot([0,vec2d[0]],[0,vec2d[1]],'bs-')\n",
        "plt.plot([0,s1*vec2d[0]],[0,vec2d[1]],'r.--')\n",
        "plt.axis('square')\n",
        "plt.xlim([-4,4])\n",
        "plt.ylim([-4,4])\n",
        "plt.grid()\n",
        "plt.legend()\n",
        "plt.show()"
      ],
      "execution_count": null,
      "outputs": [
        {
          "output_type": "stream",
          "text": [
            "No handles with labels found to put in legend.\n"
          ],
          "name": "stderr"
        },
        {
          "output_type": "display_data",
          "data": {
            "image/png": "[encoded data removed]",
            "text/plain": [
              "<Figure size 432x288 with 1 Axes>"
            ]
          },
          "metadata": {
            "needs_background": "light"
          }
        }
      ]
    },
    {
      "cell_type": "code",
      "metadata": {
        "colab": {
          "base_uri": "https://localhost:8080/"
        },
        "id": "BaG9ec4edBzX",
        "outputId": "d7f875c3-9b8a-4886-a1ba-210280a64b3d"
      },
      "source": [
        "#np.dot(vector1,vector2) gives the dot product of the matrices\n",
        "v1=np.array([5,6,2])\n",
        "v2=np.array([3,0,5])\n",
        "np.dot(v1,v2)"
      ],
      "execution_count": null,
      "outputs": [
        {
          "output_type": "execute_result",
          "data": {
            "text/plain": [
              "25"
            ]
          },
          "metadata": {},
          "execution_count": 84
        }
      ]
    },
    {
      "cell_type": "code",
      "metadata": {
        "colab": {
          "base_uri": "https://localhost:8080/"
        },
        "id": "uN3EQC8EdyBO",
        "outputId": "7b351bba-6df3-480f-d67a-aa585f9eca0c"
      },
      "source": [
        "#here ifthe dot product of 2 non zero vectors is 0 then the both vectors are orthogonal to each other\n",
        "v3=np.array([-4,3,1])\n",
        "v5=np.array([2,3,-1])\n",
        "np.dot(v3,v5)"
      ],
      "execution_count": null,
      "outputs": [
        {
          "output_type": "execute_result",
          "data": {
            "text/plain": [
              "0"
            ]
          },
          "metadata": {},
          "execution_count": 85
        }
      ]
    },
    {
      "cell_type": "code",
      "metadata": {
        "colab": {
          "base_uri": "https://localhost:8080/"
        },
        "id": "euZc-3Z1eh7B",
        "outputId": "6bc673c2-0ff8-4be6-c083-a080e9ab6221"
      },
      "source": [
        "#we get an identity matrix if we use eye() function\n",
        "np.eye(3)"
      ],
      "execution_count": null,
      "outputs": [
        {
          "output_type": "execute_result",
          "data": {
            "text/plain": [
              "array([[1., 0., 0.],\n",
              "       [0., 1., 0.],\n",
              "       [0., 0., 1.]])"
            ]
          },
          "metadata": {},
          "execution_count": 86
        }
      ]
    },
    {
      "cell_type": "code",
      "metadata": {
        "colab": {
          "base_uri": "https://localhost:8080/"
        },
        "id": "nTv5R17zessN",
        "outputId": "ccf67bb8-35b7-433f-fa24-8a09c28ca6a3"
      },
      "source": [
        "#zeros()creates a zero matrix with m rows and n columns\n",
        "np.zeros((3,4))"
      ],
      "execution_count": null,
      "outputs": [
        {
          "output_type": "execute_result",
          "data": {
            "text/plain": [
              "array([[0., 0., 0., 0.],\n",
              "       [0., 0., 0., 0.],\n",
              "       [0., 0., 0., 0.]])"
            ]
          },
          "metadata": {},
          "execution_count": 88
        }
      ]
    },
    {
      "cell_type": "code",
      "metadata": {
        "colab": {
          "base_uri": "https://localhost:8080/"
        },
        "id": "6C_MlXfPfOC9",
        "outputId": "a2f8975c-a0f5-47f1-f997-454ee784f401"
      },
      "source": [
        "#creates a matrix with m rows and n colums with specified value \n",
        "np.full((5,2),4)\n"
      ],
      "execution_count": null,
      "outputs": [
        {
          "output_type": "execute_result",
          "data": {
            "text/plain": [
              "array([[4, 4],\n",
              "       [4, 4],\n",
              "       [4, 4],\n",
              "       [4, 4],\n",
              "       [4, 4]])"
            ]
          },
          "metadata": {},
          "execution_count": 89
        }
      ]
    },
    {
      "cell_type": "code",
      "metadata": {
        "colab": {
          "base_uri": "https://localhost:8080/"
        },
        "id": "jp9ECuWTfeJb",
        "outputId": "830361c5-013a-466a-9568-1380a79df0d5"
      },
      "source": [
        "#creating the a 3*3 matrix\n",
        "m1=np.array([[1,2,3],[4,5,6],[7,8,9]])\n",
        "print(m1)\n",
        "\n"
      ],
      "execution_count": null,
      "outputs": [
        {
          "output_type": "stream",
          "text": [
            "[[1 2 3]\n",
            " [4 5 6]\n",
            " [7 8 9]]\n"
          ],
          "name": "stdout"
        }
      ]
    },
    {
      "cell_type": "code",
      "metadata": {
        "colab": {
          "base_uri": "https://localhost:8080/"
        },
        "id": "sqBlnyrZf4H-",
        "outputId": "ac4d144e-cd50-4a02-9f10-161e4fee4539"
      },
      "source": [
        "# matrixname.T gives the transpose of the matrix\n",
        "v1=np.array([[2,3,-1],[4,2,6]])\n",
        "print(v1)\n",
        "print()\n",
        "print(v1.T)"
      ],
      "execution_count": null,
      "outputs": [
        {
          "output_type": "stream",
          "text": [
            "[[ 2  3 -1]\n",
            " [ 4  2  6]]\n",
            "\n",
            "[[ 2  4]\n",
            " [ 3  2]\n",
            " [-1  6]]\n"
          ],
          "name": "stdout"
        }
      ]
    },
    {
      "cell_type": "code",
      "metadata": {
        "colab": {
          "base_uri": "https://localhost:8080/"
        },
        "id": "wqIhvvN3gnO_",
        "outputId": "39fddd6e-3962-4461-b3a5-2263995ab52e"
      },
      "source": [
        "m2=np.random.randn(3,3)\n",
        "print(m2)\n",
        "print()\n",
        "print(m2.T)"
      ],
      "execution_count": null,
      "outputs": [
        {
          "output_type": "stream",
          "text": [
            "[[ 0.88139005 -0.17673187 -0.87764197]\n",
            " [-0.03883471 -0.28263417 -0.49065425]\n",
            " [ 1.06000877 -1.04384633 -0.51127775]]\n",
            "\n",
            "[[ 0.88139005 -0.03883471  1.06000877]\n",
            " [-0.17673187 -0.28263417 -1.04384633]\n",
            " [-0.87764197 -0.49065425 -0.51127775]]\n"
          ],
          "name": "stdout"
        }
      ]
    },
    {
      "cell_type": "code",
      "metadata": {
        "colab": {
          "base_uri": "https://localhost:8080/"
        },
        "id": "yd0E32FbhGGq",
        "outputId": "079b3d68-9255-426f-a514-5c4990745a42"
      },
      "source": [
        "#TRANSPOSING THE 2 TIMES GIVE THE SAME MATRIX\n",
        "m2=np.random.randn(3,3)\n",
        "print(m2)\n",
        "print()\n",
        "print(m2.T.T)"
      ],
      "execution_count": null,
      "outputs": [
        {
          "output_type": "stream",
          "text": [
            "[[-0.24732401 -1.75936811 -0.96505224]\n",
            " [-0.34077743 -0.650624   -0.15352206]\n",
            " [-0.13956392  0.67508566 -0.10510211]]\n",
            "\n",
            "[[-0.24732401 -1.75936811 -0.96505224]\n",
            " [-0.34077743 -0.650624   -0.15352206]\n",
            " [-0.13956392  0.67508566 -0.10510211]]\n"
          ],
          "name": "stdout"
        }
      ]
    },
    {
      "cell_type": "code",
      "metadata": {
        "colab": {
          "base_uri": "https://localhost:8080/"
        },
        "id": "wkbHNCSIhvuA",
        "outputId": "c31a22f4-6dd4-4e91-c6f0-f96d64aa70c8"
      },
      "source": [
        "#we can use matmul(matrix1,matrix2) to multiply matrices or matrix1@matrix2\n",
        "M1=np.random.randn(4,5)#4*5 matrix\n",
        "M2=np.random.randn(4,5)#4*5 matrix\n",
        "print(M1)\n",
        "print()\n",
        "print(M2)\n",
        "print()\n",
        "print(np.matmul(M1,M2.T))#4*5 *  5*4 gives 4*4\n",
        "print()\n",
        "print(M1@M2.T)\n",
        "print()\n",
        "print(np.matmul(M1,M2.T) - M1@M2.T)#to check whether both functions give same result or not"
      ],
      "execution_count": null,
      "outputs": [
        {
          "output_type": "stream",
          "text": [
            "[[-1.21473976  0.71661826 -1.43664686  0.23100486 -1.11461327]\n",
            " [-0.17840251  0.15852368 -1.01472872 -0.39259064  1.70456076]\n",
            " [-0.81686223  1.0332152  -0.00282695  0.03543787 -0.27961565]\n",
            " [ 1.21687637  0.02628485  0.38459009 -1.01906466 -1.44033772]]\n",
            "\n",
            "[[-0.37869058 -0.9240993  -2.10420935  0.70011187 -0.0140594 ]\n",
            " [-1.67793605  1.02977164 -1.1083362   0.42395215  0.66371805]\n",
            " [-0.23451692  1.18867819 -0.19959694 -0.29410869 -1.45928164]\n",
            " [-0.30882625  2.38762365 -0.43393603 -0.04993046  1.91703394]]\n",
            "\n",
            "[[ 2.99818987  3.72664258  2.98204998  0.56128541]\n",
            " [ 1.75744691  2.55215986 -1.93916111  4.16122068]\n",
            " [-0.61076521  2.26718951  1.81790804  2.18262214]\n",
            " [-1.98757646 -3.82904125  2.07067728 -3.19022647]]\n",
            "\n",
            "[[ 2.99818987  3.72664258  2.98204998  0.56128541]\n",
            " [ 1.75744691  2.55215986 -1.93916111  4.16122068]\n",
            " [-0.61076521  2.26718951  1.81790804  2.18262214]\n",
            " [-1.98757646 -3.82904125  2.07067728 -3.19022647]]\n",
            "\n",
            "[[0. 0. 0. 0.]\n",
            " [0. 0. 0. 0.]\n",
            " [0. 0. 0. 0.]\n",
            " [0. 0. 0. 0.]]\n"
          ],
          "name": "stdout"
        }
      ]
    },
    {
      "cell_type": "code",
      "metadata": {
        "colab": {
          "base_uri": "https://localhost:8080/"
        },
        "id": "MZb4Q2cWjjup",
        "outputId": "0063c149-4c43-44ac-9220-3e11b6683a54"
      },
      "source": [
        "#the linalg.inv() functions gives the inverse of the ,atrix as output\n",
        "A=np.random.randn(4,4)\n",
        "Ainv = np.linalg.inv(A)\n",
        "print(A)\n",
        "print()\n",
        "print(Ainv)"
      ],
      "execution_count": null,
      "outputs": [
        {
          "output_type": "stream",
          "text": [
            "[[-0.3249839   1.23927699 -0.87888552  0.1349878 ]\n",
            " [-0.70678714  0.66565546  0.80951094  0.08635991]\n",
            " [ 0.42845072 -0.31271814  0.17563475 -0.75057696]\n",
            " [ 1.10221863 -0.08960924 -0.5080626  -1.63469246]]\n",
            "\n",
            "[[ -6.84284834   3.59504084 -22.29049384   9.85965119]\n",
            " [ -2.89749228   2.3692028  -11.05960911   4.96397091]\n",
            " [ -3.2235363    2.25603799  -9.13173147   4.04587442]\n",
            " [ -3.45319673   1.59296632 -11.58533717   4.50672914]]\n"
          ],
          "name": "stdout"
        }
      ]
    },
    {
      "cell_type": "code",
      "metadata": {
        "colab": {
          "base_uri": "https://localhost:8080/",
          "height": 324
        },
        "id": "thFA7nlkkN3q",
        "outputId": "d4e707bf-847a-467a-9205-09f9767e2ad9"
      },
      "source": [
        "fig,ax=plt.subplots(1,3,figsize=(6,5))\n",
        "ax[0].imshow(A)\n",
        "ax[0].set_title('A')\n",
        "ax[1].imshow(Ainv)\n",
        "ax[1].set_title('B')\n",
        "plt.show()"
      ],
      "execution_count": null,
      "outputs": [
        {
          "output_type": "display_data",
          "data": {
            "image/png": "[encoded data removed]",
            "text/plain": [
              "<Figure size 432x360 with 3 Axes>"
            ]
          },
          "metadata": {
            "needs_background": "light"
          }
        }
      ]
    },
    {
      "cell_type": "code",
      "metadata": {
        "id": "V4UxhCCYllDH"
      },
      "source": [
        ""
      ],
      "execution_count": null,
      "outputs": []
    },
    {
      "cell_type": "code",
      "metadata": {
        "id": "xdHBxhZLk5W4"
      },
      "source": [
        ""
      ],
      "execution_count": null,
      "outputs": []
    }
  ]
}